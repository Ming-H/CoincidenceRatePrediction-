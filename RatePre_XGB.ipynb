{
 "cells": [
  {
   "cell_type": "code",
   "execution_count": 17,
   "metadata": {},
   "outputs": [],
   "source": [
    "from sklearn.model_selection import train_test_split\n",
    "import pandas as pd\n",
    "import numpy as np\n",
    "from sklearn.metrics import accuracy_score\n",
    "import math\n",
    "import copy as cp\n",
    "import matplotlib.pyplot as plt \n",
    "import xgboost as xgb\n",
    "# https://blog.csdn.net/Jerr__y/article/details/79005842\n",
    "# https://github.com/neal668/LightGBM-GBDT-LR/blob/master/GBFT%2BLR_simple.py"
   ]
  },
  {
   "cell_type": "code",
   "execution_count": 54,
   "metadata": {},
   "outputs": [],
   "source": [
    "df1=pd.read_csv(\"../data/first_round_training_data.csv\")\n",
    "df2=pd.read_csv(\"../data/first_round_testing_data.csv\")\n",
    "\n",
    "train_x=np.zeros([6000,10],dtype=np.float32)\n",
    "train_y=np.zeros([6000],dtype=np.int32)\n",
    "\n",
    "test_id=np.zeros([6000],dtype=np.int32)\n",
    "test_x=np.zeros([6000,10],dtype=np.float32)\n",
    "\n",
    "cls2int={\"Excellent\":0,\"Good\":1,\"Pass\":2,\"Fail\":3}\n",
    "\n",
    "for i in range(1,11):\n",
    "    par=\"Parameter\"+str(i)\n",
    "    tmp=df1[par]\n",
    "    for j in range(6000):\n",
    "        train_x[j,i-1]=tmp[j]\n",
    "        cls=cls2int[df1[\"Quality_label\"][j]]\n",
    "        train_y[j]=cls\n",
    "for i in range(1,11):\n",
    "    par=\"Parameter\"+str(i)\n",
    "    tmp=df2[par]\n",
    "    for j in range(6000):\n",
    "        test_x[j,i-1]=tmp[j]\n",
    "        ID=int(df2[\"Group\"][j])\n",
    "        test_id[j]=ID\n",
    "\n",
    "X_train, X_validation, y_train, y_validation = train_test_split(\\\n",
    "                    train_x, train_y, test_size=0.3 , random_state=1234)"
   ]
  },
  {
   "cell_type": "code",
   "execution_count": 51,
   "metadata": {},
   "outputs": [
    {
     "name": "stdout",
     "output_type": "stream",
     "text": [
      "[0]\tvalidation_0-merror:0.454286\tvalidation_1-merror:0.522778\n",
      "Multiple eval metrics have been passed: 'validation_1-merror' will be used for early stopping.\n",
      "\n",
      "Will train until validation_1-merror hasn't improved in 10 rounds.\n",
      "[1]\tvalidation_0-merror:0.454048\tvalidation_1-merror:0.515\n",
      "[2]\tvalidation_0-merror:0.442857\tvalidation_1-merror:0.510556\n",
      "[3]\tvalidation_0-merror:0.445\tvalidation_1-merror:0.51\n",
      "[4]\tvalidation_0-merror:0.435476\tvalidation_1-merror:0.505\n",
      "[5]\tvalidation_0-merror:0.430238\tvalidation_1-merror:0.506111\n",
      "[6]\tvalidation_0-merror:0.436429\tvalidation_1-merror:0.502778\n",
      "[7]\tvalidation_0-merror:0.434286\tvalidation_1-merror:0.503889\n",
      "[8]\tvalidation_0-merror:0.435952\tvalidation_1-merror:0.502222\n",
      "[9]\tvalidation_0-merror:0.431429\tvalidation_1-merror:0.503333\n",
      "[10]\tvalidation_0-merror:0.434524\tvalidation_1-merror:0.503889\n",
      "[11]\tvalidation_0-merror:0.433095\tvalidation_1-merror:0.5\n",
      "[12]\tvalidation_0-merror:0.431905\tvalidation_1-merror:0.498889\n",
      "[13]\tvalidation_0-merror:0.435\tvalidation_1-merror:0.496111\n",
      "[14]\tvalidation_0-merror:0.434524\tvalidation_1-merror:0.498889\n",
      "[15]\tvalidation_0-merror:0.432857\tvalidation_1-merror:0.497222\n",
      "[16]\tvalidation_0-merror:0.431905\tvalidation_1-merror:0.498333\n",
      "[17]\tvalidation_0-merror:0.431429\tvalidation_1-merror:0.499444\n",
      "[18]\tvalidation_0-merror:0.432143\tvalidation_1-merror:0.498333\n",
      "[19]\tvalidation_0-merror:0.431667\tvalidation_1-merror:0.498889\n",
      "[20]\tvalidation_0-merror:0.430476\tvalidation_1-merror:0.5\n",
      "[21]\tvalidation_0-merror:0.430714\tvalidation_1-merror:0.501111\n",
      "[22]\tvalidation_0-merror:0.430952\tvalidation_1-merror:0.498889\n",
      "[23]\tvalidation_0-merror:0.429286\tvalidation_1-merror:0.496111\n",
      "Stopping. Best iteration:\n",
      "[13]\tvalidation_0-merror:0.435\tvalidation_1-merror:0.496111\n",
      "\n"
     ]
    },
    {
     "data": {
      "text/plain": [
       "XGBClassifier(base_score=0.5, booster='gbtree', colsample_bylevel=1,\n",
       "              colsample_bynode=1, colsample_bytree=0.8, gamma=0.1,\n",
       "              learning_rate=0.01, max_delta_step=0, max_depth=6,\n",
       "              min_child_weight=3, missing=None, n_estimators=500, n_jobs=1,\n",
       "              n_thread=4, nthread=None, num_class=4, objective='multi:softprob',\n",
       "              random_state=0, reg_alpha=5, reg_lambda=2, scale_pos_weight=1.6,\n",
       "              seed=1000, silent=False, subsample=0.8, verbosity=1)"
      ]
     },
     "execution_count": 51,
     "metadata": {},
     "output_type": "execute_result"
    }
   ],
   "source": [
    "model = xgb.XGBClassifier(\n",
    "    booster = 'gbtree',\n",
    "    objective = 'multi:softmax',\n",
    "    num_class = 4,\n",
    "    gamma=0.1,\n",
    "    max_depth=6,\n",
    "    n_estimators=500,\n",
    "    learning_rate=0.01,\n",
    "    reg_alpha=5,\n",
    "    reg_lambda=2,\n",
    "    subsample=0.8,\n",
    "    colsample_bytree=0.8,\n",
    "    min_child_weight=3,\n",
    "    scale_pos_weight=1.6, \n",
    "    seed=1000,\n",
    "    silent=False,\n",
    "    n_thread = 4\n",
    "    #eval_metric='error'\n",
    "    )\n",
    "\n",
    "model.fit(X_train, y_train, \n",
    "          eval_set=[(X_train, y_train), (X_validation, y_validation)],\n",
    "          #eval_metric=['merror', 'mlogloss'],\n",
    "          verbose=True,\n",
    "          early_stopping_rounds=10\n",
    "         )"
   ]
  },
  {
   "cell_type": "code",
   "execution_count": 52,
   "metadata": {},
   "outputs": [
    {
     "name": "stdout",
     "output_type": "stream",
     "text": [
      "       Excellent ratio  Good ratio  Pass ratio  Fail ratio\n",
      "Group                                                     \n",
      "0                 0.18        0.60        0.12        0.10\n",
      "1                 0.12        0.28        0.46        0.14\n",
      "2                 0.32        0.50        0.18        0.00\n",
      "3                 0.32        0.30        0.34        0.04\n",
      "4                 0.04        0.64        0.28        0.04\n",
      "...                ...         ...         ...         ...\n",
      "115               0.10        0.34        0.42        0.14\n",
      "116               0.00        0.04        0.92        0.04\n",
      "117               0.10        0.44        0.34        0.12\n",
      "118               0.00        0.00        1.00        0.00\n",
      "119               0.16        0.32        0.40        0.12\n",
      "\n",
      "[120 rows x 4 columns]\n"
     ]
    }
   ],
   "source": [
    "# 对应组别所有工件质检结果为优的比率\n",
    "\n",
    "import datetime\n",
    "name = str(datetime.datetime.now().month) + str(datetime.datetime.now().day)\n",
    "\n",
    "ans = model.predict(test_x)\n",
    "df_new = pd.concat([pd.DataFrame(test_id), pd.DataFrame(ans)], axis=1)\n",
    "df_new.columns = ['Group', 'type']\n",
    "\n",
    "df_result = df_new.groupby(['Group', 'type'])['type'].count()/50\n",
    "df_result = df_result.unstack()\n",
    "df_result.fillna(0, inplace=True)\n",
    "df_result.columns = ['Excellent ratio','Good ratio','Pass ratio','Fail ratio']\n",
    "print(df_result)\n",
    "df_result.to_csv(\"../data/result_xbt_1_%s.csv\"% name)"
   ]
  },
  {
   "cell_type": "code",
   "execution_count": 53,
   "metadata": {},
   "outputs": [
    {
     "name": "stdout",
     "output_type": "stream",
     "text": [
      "       Excellent ratio  Good ratio  Pass ratio  Fail ratio\n",
      "Group                                                     \n",
      "0             0.247509    0.255190    0.251329    0.245972\n",
      "1             0.245520    0.250177    0.260594    0.243710\n",
      "2             0.252477    0.253185    0.252864    0.241474\n",
      "3             0.249512    0.252631    0.258922    0.238934\n",
      "4             0.245189    0.257202    0.250927    0.246682\n",
      "5             0.245440    0.249543    0.262531    0.242486\n",
      "6             0.245689    0.251592    0.258681    0.244037\n",
      "7             0.243067    0.250165    0.266398    0.240369\n",
      "8             0.240181    0.239581    0.284551    0.235686\n",
      "9             0.244185    0.250348    0.262509    0.242957\n"
     ]
    }
   ],
   "source": [
    "ans = model.predict_proba(test_x)\n",
    "\n",
    "df_new = pd.concat([pd.DataFrame(test_id), pd.DataFrame(ans)], axis=1)\n",
    "df_new.columns = ['Group', 'Excellent ratio','Good ratio','Pass ratio','Fail ratio']\n",
    "\n",
    "df_result = df_new.groupby('Group')['Excellent ratio','Good ratio','Pass ratio','Fail ratio'].mean()\n",
    "df_result.to_csv(\"../data/result_xgb_2_%s.csv\"% name)\n",
    "print(df_result.iloc[:10,:])"
   ]
  }
 ],
 "metadata": {
  "kernelspec": {
   "display_name": "Python 3",
   "language": "python",
   "name": "python3"
  },
  "language_info": {
   "codemirror_mode": {
    "name": "ipython",
    "version": 3
   },
   "file_extension": ".py",
   "mimetype": "text/x-python",
   "name": "python",
   "nbconvert_exporter": "python",
   "pygments_lexer": "ipython3",
   "version": "3.7.3"
  }
 },
 "nbformat": 4,
 "nbformat_minor": 2
}
