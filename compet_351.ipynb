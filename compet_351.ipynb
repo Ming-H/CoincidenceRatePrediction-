{
 "cells": [
  {
   "cell_type": "code",
   "execution_count": 14,
   "metadata": {},
   "outputs": [],
   "source": [
    "import numpy as np\n",
    "import pandas as pd\n",
    "import catboost as cbt\n",
    "from sklearn.metrics import accuracy_score, roc_auc_score,log_loss\n",
    "import gc\n",
    "import math\n",
    "import time\n",
    "from tqdm import tqdm\n",
    "import datetime\n",
    "from sklearn.model_selection import KFold,StratifiedKFold\n",
    "from sklearn.preprocessing import LabelEncoder\n",
    "import matplotlib.pyplot as plt\n",
    "from datetime import datetime,timedelta\n",
    "import warnings\n",
    "import os\n",
    "warnings.filterwarnings('ignore')"
   ]
  },
  {
   "cell_type": "code",
   "execution_count": 15,
   "metadata": {},
   "outputs": [
    {
     "name": "stdout",
     "output_type": "stream",
     "text": [
      "(6000, 10) (6000, 10)\n"
     ]
    }
   ],
   "source": [
    "pd.options.display.max_columns = None\n",
    "pd.options.display.max_rows = None\n",
    "\n",
    "train = pd.read_csv('/Users/dxm/Documents/My_project/predict/first_round_training_data.csv')\n",
    "test = pd.read_csv('/Users/dxm/Documents/My_project/predict/first_round_testing_data.csv')\n",
    "submit = pd.read_csv('/Users/dxm/Documents/My_project/predict/submit_example.csv')\n",
    "\n",
    "data = train.append(test).reset_index(drop=True)\n",
    "dit = {'Excellent':0,'Good':1,'Pass':2,'Fail':3}\n",
    "data['label'] = data['Quality_label'].map(dit)\n",
    "train['label'] = train['Quality_label'].map(dit)\n",
    "\n",
    "feature_name = ['Parameter{0}'.format(i) for i in range(1, 11)]\n",
    "tr_index = ~data['label'].isnull()\n",
    "X_train = data[tr_index][feature_name].reset_index(drop=True)\n",
    "y = data[tr_index]['label'].reset_index(drop=True).astype(int)\n",
    "X_test = data[~tr_index][feature_name].reset_index(drop=True)\n",
    "print(X_train.shape,X_test.shape)"
   ]
  },
  {
   "cell_type": "code",
   "execution_count": 16,
   "metadata": {},
   "outputs": [
    {
     "name": "stdout",
     "output_type": "stream",
     "text": [
      "1\n",
      "2\n",
      "3\n",
      "4\n",
      "5\n",
      "0\n",
      "1\n",
      "2\n",
      "3\n",
      "4\n"
     ]
    },
    {
     "data": {
      "text/plain": [
       "60"
      ]
     },
     "execution_count": 16,
     "metadata": {},
     "output_type": "execute_result"
    }
   ],
   "source": [
    "oof = np.zeros((X_train.shape[0],4))\n",
    "prediction = np.zeros((X_test.shape[0],4))\n",
    "seeds = [19970412, 2019 * 2 + 1024, 4096, 2048, 1024]\n",
    "num_model_seed = 5\n",
    "for model_seed in range(num_model_seed):\n",
    "    print(model_seed + 1)\n",
    "oof_cat = np.zeros((X_train.shape[0],4))\n",
    "prediction_cat=np.zeros((X_test.shape[0],4))\n",
    "skf = StratifiedKFold(n_splits=5, random_state=seeds[model_seed], shuffle=True)\n",
    "for index, (train_index, test_index) in enumerate(skf.split(X_train, y)):\n",
    "    print(index)\n",
    "train_x, test_x, train_y, test_y = X_train.iloc[train_index], X_train.iloc[test_index], \\\n",
    "                                                    y.iloc[train_index], y.iloc[test_index]\n",
    "gc.collect()"
   ]
  },
  {
   "cell_type": "code",
   "execution_count": 17,
   "metadata": {},
   "outputs": [
    {
     "name": "stdout",
     "output_type": "stream",
     "text": [
      "0:\tlearn: 1.3817841\ttest: 1.3817841\tbest: 1.3817841 (0)\ttotal: 36.2ms\tremaining: 28.9s\n",
      "300:\tlearn: 1.1007161\ttest: 1.1007161\tbest: 1.1007161 (300)\ttotal: 12s\tremaining: 19.9s\n",
      "600:\tlearn: 1.0675966\ttest: 1.0675966\tbest: 1.0675966 (600)\ttotal: 23.5s\tremaining: 7.79s\n",
      "799:\tlearn: 1.0523754\ttest: 1.0523754\tbest: 1.0523754 (799)\ttotal: 30.8s\tremaining: 0us\n",
      "\n",
      "bestTest = 1.052375371\n",
      "bestIteration = 799\n",
      "\n",
      "logloss 1.3320600147834725\n",
      "ac 0.25133333333333335\n",
      "mae 0.07114527718013408\n",
      "logloss 1.3320600147834725\n",
      "ac 0.25133333333333335\n",
      "mae 0.0734691813289611\n"
     ]
    }
   ],
   "source": [
    "cbt_model = cbt.CatBoostClassifier(iterations=800,\n",
    "                                   learning_rate=0.01,\n",
    "                                   verbose=300,\n",
    "                                   early_stopping_rounds=200,\n",
    "                                   loss_function='MultiClass')\n",
    "\n",
    "cbt_model.fit(train_x, train_y ,eval_set=(train_x, train_y))\n",
    "oof_cat[test_index] += cbt_model.predict_proba(test_x)\n",
    "prediction_cat += cbt_model.predict_proba(X_test)/5\n",
    "gc.collect()\n",
    "oof += oof_cat / num_model_seed\n",
    "prediction += prediction_cat / num_model_seed\n",
    "\n",
    "print('logloss',log_loss(pd.get_dummies(y).values, oof_cat))\n",
    "print('ac',accuracy_score(y, np.argmax(oof_cat,axis=1)))\n",
    "print('mae',1/(1 + np.sum(np.absolute(np.eye(4)[y] - oof_cat))/480))\n",
    "print('logloss',log_loss(pd.get_dummies(y).values, oof))\n",
    "print('ac',accuracy_score(y, np.argmax(oof,axis=1)))\n",
    "print('mae',1/(1 + np.sum(np.absolute(np.eye(4)[y] - oof))/480))\n",
    "sub = test[['Group']]\n",
    "prob_cols = [i for i in submit.columns if i not in ['Group']]\n",
    "for i, f in enumerate(prob_cols):\n",
    "    sub[f] = prediction[:, i]\n",
    "for i in prob_cols:\n",
    "    sub[i] = sub.groupby('Group')[i].transform('mean')\n",
    "\n",
    "sub = sub.drop_duplicates()\n",
    "sub.to_csv(\"/Users/dxm/Documents/My_project/predict/submission.csv\",index=False)"
   ]
  },
  {
   "cell_type": "code",
   "execution_count": null,
   "metadata": {},
   "outputs": [],
   "source": []
  },
  {
   "cell_type": "code",
   "execution_count": null,
   "metadata": {},
   "outputs": [],
   "source": []
  }
 ],
 "metadata": {
  "kernelspec": {
   "display_name": "Python 3",
   "language": "python",
   "name": "python3"
  },
  "language_info": {
   "codemirror_mode": {
    "name": "ipython",
    "version": 3
   },
   "file_extension": ".py",
   "mimetype": "text/x-python",
   "name": "python",
   "nbconvert_exporter": "python",
   "pygments_lexer": "ipython3",
   "version": "3.7.3"
  }
 },
 "nbformat": 4,
 "nbformat_minor": 2
}
